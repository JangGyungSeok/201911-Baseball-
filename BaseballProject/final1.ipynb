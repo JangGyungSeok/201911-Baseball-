{
 "cells": [
  {
   "cell_type": "code",
   "execution_count": 41,
   "metadata": {},
   "outputs": [],
   "source": [
    "# ==================장경석, 김수연 작성 파일====================\n",
    "import pandas as pd\n",
    "from sklearn.tree import DecisionTreeClassifier\n",
    "from sklearn import tree\n",
    "from sklearn.model_selection import train_test_split\n",
    "from sklearn.metrics import classification_report, confusion_matrix\n",
    "from sklearn.metrics import accuracy_score\n",
    "from IPython.display import Image\n",
    "import pandas as pd\n",
    "import numpy as np\n",
    "import pydotplus\n",
    "import pickle\n",
    "import os\n",
    "from bs4 import BeautifulSoup\n",
    "import requests\n",
    "import time\n",
    "from selenium import webdriver\n",
    "from selenium.webdriver.common.keys import Keys\n",
    "from selenium.webdriver.common.action_chains import ActionChains\n",
    "import urllib.request\n",
    "from PIL import Image\n",
    "import re"
   ]
  },
  {
   "cell_type": "code",
   "execution_count": 46,
   "metadata": {},
   "outputs": [],
   "source": [
    "os.pathsep\n",
    "os.environ['PATH']+='c:/ai/program/graphviz/bin/;'\n",
    "ball_data = pd.read_csv('baseballdata/baseball_savant_foreigners_2011_2019.csv',encoding='euc-kr')\n",
    "stat_data = pd.read_csv('baseballdata/fangraphs_foreigners_2011_2019.csv',encoding='euc-kr')\n",
    "kbo_data=pd.read_csv('baseballdata/kbo_yearly_foreigners_2011_2019.csv',encoding='euc-kr')"
   ]
  },
  {
   "cell_type": "code",
   "execution_count": 7,
   "metadata": {},
   "outputs": [],
   "source": [
    "stat_data=stat_data.drop(columns='year')\n",
    "stat_data.sort_values('pitcher_name')\n",
    "stat_data = stat_data.groupby(['pitcher_name'], as_index=False).mean()\n",
    "kbo_data=kbo_data.groupby(['pitcher_name'], as_index=False).mean()"
   ]
  },
  {
   "cell_type": "code",
   "execution_count": 16,
   "metadata": {},
   "outputs": [
    {
     "name": "stdout",
     "output_type": "stream",
     "text": [
      "정확도: 0.8333333333333334\n"
     ]
    }
   ],
   "source": [
    "test_df=pd.merge(stat_data, kbo_data[['pitcher_name','ERA','H','TBF']], on='pitcher_name')\n",
    "test_df['H/TBF']=test_df['H_y']/test_df['TBF_y']\n",
    "test_df['TBF_H_ERA_class']=np.nan\n",
    "mean1=test_df['H/TBF'].mean()\n",
    "mean2=test_df['ERA_y'].mean()\n",
    "for i in range(0,len(test_df)):\n",
    "    value1=test_df.loc[i,'H/TBF']\n",
    "    value2=test_df.loc[i,'ERA_y']\n",
    "\n",
    "    if value1>=mean1 and value2<=mean2:\n",
    "        test_df.iloc[[i],[-1]]=0\n",
    "    else:\n",
    "        test_df.iloc[[i],[-1]]=1\n",
    "        \n",
    "X = np.array(pd.DataFrame(test_df, columns = ['ERA_x','WAR','TBF_x','H_x','HR','BB','HBP','SO','WHIP','BABIP','FIP','LD%','GB%','FB%','IFFB%','SwStr%','Swing%']))\n",
    "y = np.array(pd.DataFrame(test_df, columns = ['TBF_H_ERA_class']))\n",
    "X_train, X_test, y_train, y_test = train_test_split(X,y)\n",
    "dt_clf = DecisionTreeClassifier()\n",
    "dt_clf = dt_clf.fit(X_train, y_train)\n",
    "dt_dot_data = tree.export_graphviz(dt_clf,out_file=None,\n",
    "                                    feature_names = ['ERA_x','WAR','TBF_x','H_x','HR','BB','HBP','SO','WHIP','BABIP','FIP','LD%','GB%','FB%','IFFB%','SwStr%','Swing%'], \n",
    "                                    class_names = ['good','bad'], \n",
    "                                    filled = True,rounded = True,special_characters = True)\n",
    "dt_graph = pydotplus.graph_from_dot_data(dt_dot_data)\n",
    "dt_prediction = dt_clf.predict(X_test)\n",
    "accuracy = accuracy_score(y_test, dt_prediction)\n",
    "print('정확도:', accuracy)"
   ]
  },
  {
   "cell_type": "code",
   "execution_count": 47,
   "metadata": {},
   "outputs": [
    {
     "ename": "TypeError",
     "evalue": "'module' object is not callable",
     "output_type": "error",
     "traceback": [
      "\u001b[1;31m---------------------------------------------------------------------------\u001b[0m",
      "\u001b[1;31mTypeError\u001b[0m                                 Traceback (most recent call last)",
      "\u001b[1;32m<ipython-input-47-4692a2ba348d>\u001b[0m in \u001b[0;36m<module>\u001b[1;34m\u001b[0m\n\u001b[1;32m----> 1\u001b[1;33m \u001b[0mImage\u001b[0m\u001b[1;33m(\u001b[0m\u001b[0mdt_graph\u001b[0m\u001b[1;33m.\u001b[0m\u001b[0mcreate_png\u001b[0m\u001b[1;33m(\u001b[0m\u001b[1;33m)\u001b[0m\u001b[1;33m)\u001b[0m\u001b[1;33m\u001b[0m\u001b[1;33m\u001b[0m\u001b[0m\n\u001b[0m",
      "\u001b[1;31mTypeError\u001b[0m: 'module' object is not callable"
     ]
    }
   ],
   "source": [
    "Image(dt_graph.create_png())"
   ]
  },
  {
   "cell_type": "code",
   "execution_count": 17,
   "metadata": {},
   "outputs": [],
   "source": [
    "import pickle\n",
    "with open('trees.p', 'wb') as file:\n",
    "    pickle.dump(dt_clf,file)"
   ]
  },
  {
   "cell_type": "code",
   "execution_count": 22,
   "metadata": {},
   "outputs": [],
   "source": [
    "url1='https://www.fangraphs.com/'\n",
    "pitcher_name='Hyun-Jin Ryu'\n",
    "driver = webdriver.Chrome('chromedriver.exe')\n",
    "driver.get(url1)\n",
    "time.sleep(3)\n",
    "driver.find_element_by_class_name('search-query').send_keys(pitcher_name)\n",
    "time.sleep(1.5)\n",
    "driver.find_element_by_css_selector('#rootSearch > div > div.search-results > ul.major > a:nth-child(1) > li > span.player-name').click()\n",
    "time.sleep(1)\n",
    "html=driver.page_source\n",
    "soup = BeautifulSoup(html,'html.parser')\n",
    "contents=soup.find_all('div',{'style':'white-space:nowrap;'})\n",
    "\n",
    "comp=re.compile('grid_multi')\n",
    "comp2=re.compile('[(]')\n",
    "comp3=re.compile('grid_postseason')\n",
    "comp4=re.compile('rgRow ')\n",
    "comp5=re.compile('rgAltRow ')\n",
    "data_list={\n",
    "        'team':[],'year':[],'BABIP':[],'ERA':[],'WAR':[],'TBF':[],'H':[],'HR':[],'BB':[],'HBP':[],'SO':[],'WHIP':[],'FIP':[],\n",
    "        'LD':[],'GB':[],'FB':[],'IFFB':[],'Swing':[],'SWStr':[]\n",
    "            }\n",
    "\n",
    "\n",
    "bodys=contents[0].select('tbody')\n",
    "for body in bodys:\n",
    "    trs=body.select('tr')\n",
    "    for tr in trs[:-2]:\n",
    "        tds=tr.select('td')\n",
    "        season=tds[0].text\n",
    "        team=tds[1].text\n",
    "\n",
    "        year=tds[0].text\n",
    "        BABIP=tds[11].text\n",
    "        ERA=tds[15].text\n",
    "        WAR=tds[18].text\n",
    "        if comp.search(str(tr))==None and comp3.search(str(tr))==None and season!='2020' and season!='Total':\n",
    "            if comp2.search(team)==None:\n",
    "                data_list['year'].append(year)\n",
    "                data_list['BABIP'].append(BABIP)\n",
    "                data_list['ERA'].append(ERA)\n",
    "                data_list['WAR'].append(WAR)\n",
    "                data_list['team'].append(team)\n",
    "\n",
    "\n",
    "\n",
    "\n",
    "# #==========================================================================================\n",
    "bodys=contents[1].select('tbody')\n",
    "for body in bodys:\n",
    "    trs=body.select('tr')\n",
    "    for tr in trs[:-1]:\n",
    "        tds=tr.select('td')\n",
    "        team=tds[1].text\n",
    "        season=tds[0].text\n",
    "\n",
    "        TBF=tds[13].text\n",
    "        H=  tds[14].text\n",
    "        HR= tds[17].text\n",
    "        BB= tds[18].text\n",
    "        HBP=tds[20].text\n",
    "        SO= tds[23].text\n",
    "        if comp.search(str(tr))==None and comp3.search(str(tr))==None and season!='2020' and season!='Total':\n",
    "            if comp2.search(team)==None:\n",
    "                data_list['TBF'].append(TBF)\n",
    "                data_list['H'].append(H)\n",
    "                data_list['HR'].append(HR)\n",
    "                data_list['BB'].append(BB)\n",
    "                data_list['HBP'].append(HBP)\n",
    "                data_list['SO'].append(SO)\n",
    "\n",
    "# #==========================================================================================\n",
    "bodys=contents[2].select('tbody')\n",
    "for body in bodys:\n",
    "    trs=body.select('tr')\n",
    "    for tr in trs[:-1]:\n",
    "        tds=tr.select('td')\n",
    "        team=tds[1].text\n",
    "        season=tds[0].text\n",
    "\n",
    "        WHIP= tds[10].text\n",
    "        FIP= tds[15].text\n",
    "        if comp.search(str(tr))==None and comp4.search(str(tr))==None and comp5.search(str(tr))==None and season!='2020' and season!='Total':\n",
    "            if comp2.search(team)==None:\n",
    "                data_list['WHIP'].append(WHIP)\n",
    "                data_list['FIP'].append(FIP)\n",
    "# #==========================================================================================\n",
    "bodys=contents[3].select('tbody')\n",
    "for body in bodys:\n",
    "    trs=body.select('tr')\n",
    "    for tr in trs[:-1]:\n",
    "        tds=tr.select('td')\n",
    "        season=tds[0].text\n",
    "        team=tds[1].text\n",
    "\n",
    "        LD=(tds[3].text.split('%')[0]).strip()\n",
    "        GB=(tds[4].text.split('%')[0]).strip()\n",
    "        FB=(tds[5].text.split('%')[0]).strip()\n",
    "        IFFB=(tds[6].text.split('%')[0]).strip()\n",
    "        if comp.search(str(tr))==None and comp4.search(str(tr))==None and comp5.search(str(tr))==None and season!='2020' and season!='Total':\n",
    "            if comp2.search(team)==None:\n",
    "                data_list['LD'].append(LD)\n",
    "                data_list['GB'].append(GB)\n",
    "                data_list['FB'].append(FB)\n",
    "                data_list['IFFB'].append(IFFB)\n",
    "\n",
    "\n",
    "\n",
    "# #==========================================================================================\n",
    "bodys=contents[11].select('tbody')\n",
    "for body in bodys:\n",
    "    trs=body.select('tr')\n",
    "    for tr in trs[:-1]:\n",
    "        tds=tr.select('td')\n",
    "        season=tds[0].text\n",
    "        team=tds[1].text\n",
    "\n",
    "        Swing= tds[4].text\n",
    "        if Swing=='\\xa0':\n",
    "            Swing=np.nan\n",
    "        SWStr= tds[10].text\n",
    "        if comp.search(str(tr))==None and season!='2020' and season!='Total':\n",
    "            if comp2.search(team)==None:\n",
    "                data_list['Swing'].append(Swing)\n",
    "                data_list['SWStr'].append(SWStr)"
   ]
  },
  {
   "cell_type": "code",
   "execution_count": 23,
   "metadata": {},
   "outputs": [],
   "source": [
    "user_input2='hyun-jin ryu'.split(' ')[1]+', '+'hyun-jin ryu'.split(' ')[0]\n",
    "\n",
    "url2='https://baseballsavant.mlb.com/statcast_search'\n",
    "driver2 = webdriver.Chrome('chromedriver.exe')\n",
    "driver2.get(url2)\n",
    "\n",
    "search_bar=driver2.find_element_by_css_selector('#pitchers_lookup_chosen>ul>li>input')\n",
    "search_bar.click()\n",
    "time.sleep(1)\n",
    "search_bar.send_keys(user_input2)\n",
    "time.sleep(1)\n",
    "search_bar.send_keys(Keys.ENTER)\n",
    "driver2.find_element_by_css_selector('#pfx_form > div.row.search-buttons > div > input.btn.btn-default.search-button').click()\n",
    "time.sleep(4)\n",
    "driver2.find_element_by_css_selector('#csv_all_pid_ > img').click()\n",
    "time.sleep(4)\n",
    "practice=pd.read_csv('C:/Users/student/Downloads/savant_data.csv',encoding='utf-8')\n",
    "\n",
    "import os\n",
    "os.remove('C:/Users/student/Downloads/savant_data.csv')"
   ]
  },
  {
   "cell_type": "code",
   "execution_count": 30,
   "metadata": {},
   "outputs": [
    {
     "data": {
      "text/plain": [
       "array([1.])"
      ]
     },
     "execution_count": 30,
     "metadata": {},
     "output_type": "execute_result"
    }
   ],
   "source": [
    "bbb=pd.DataFrame(data_list)\n",
    "bbb=bbb.drop(columns='year')\n",
    "bbb=bbb.drop(columns='team')\n",
    "bbb=bbb.astype('float')\n",
    "bbb['pitcher_name']='류현진'\n",
    "bbb = bbb.groupby(['pitcher_name'], as_index=False).mean()\n",
    "\n",
    "bbb[['GB','FB','IFFB']]=bbb[['GB','FB','IFFB']]/100\n",
    "bbb=bbb.drop(columns='pitcher_name')\n",
    "bbb.rename(columns={bbb.columns[1]:\"ERA_x\"}, inplace = True)\n",
    "new_data = np.array(bbb)\n",
    "dt_clf.predict(new_data)"
   ]
  },
  {
   "cell_type": "code",
   "execution_count": null,
   "metadata": {},
   "outputs": [],
   "source": []
  },
  {
   "cell_type": "code",
   "execution_count": null,
   "metadata": {},
   "outputs": [],
   "source": []
  },
  {
   "cell_type": "code",
   "execution_count": null,
   "metadata": {},
   "outputs": [],
   "source": []
  },
  {
   "cell_type": "code",
   "execution_count": null,
   "metadata": {},
   "outputs": [],
   "source": []
  },
  {
   "cell_type": "code",
   "execution_count": null,
   "metadata": {},
   "outputs": [],
   "source": []
  },
  {
   "cell_type": "code",
   "execution_count": null,
   "metadata": {},
   "outputs": [],
   "source": []
  }
 ],
 "metadata": {
  "kernelspec": {
   "display_name": "Python 3",
   "language": "python",
   "name": "python3"
  },
  "language_info": {
   "codemirror_mode": {
    "name": "ipython",
    "version": 3
   },
   "file_extension": ".py",
   "mimetype": "text/x-python",
   "name": "python",
   "nbconvert_exporter": "python",
   "pygments_lexer": "ipython3",
   "version": "3.7.3"
  }
 },
 "nbformat": 4,
 "nbformat_minor": 2
}
